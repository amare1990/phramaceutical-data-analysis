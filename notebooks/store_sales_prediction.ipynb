{
 "cells": [
  {
   "cell_type": "code",
   "execution_count": 1,
   "id": "d87f7dd6-bb48-4615-966d-e839802fe09a",
   "metadata": {},
   "outputs": [],
   "source": [
    "import os, sys\n",
    "curr_dir = os.getcwd()\n",
    "parent_dir = os.path.dirname(curr_dir)\n",
    "sys.path.insert(0, parent_dir)"
   ]
  },
  {
   "cell_type": "code",
   "execution_count": 2,
   "id": "3401bb69-d6d7-42ec-8356-d88ae80bfc4f",
   "metadata": {},
   "outputs": [],
   "source": [
    "import pandas as pd"
   ]
  },
  {
   "cell_type": "code",
   "execution_count": 3,
   "id": "d7651523-23e2-4452-9bcc-d3a1d43a55e8",
   "metadata": {},
   "outputs": [],
   "source": [
    "# Data paths\n",
    "train_data_path = \"../data/train_cleaned_data.csv\"\n",
    "test_data_path = \"../data/test_cleaned_data.csv\""
   ]
  },
  {
   "cell_type": "code",
   "execution_count": 17,
   "id": "162822c6-345e-4b55-b027-1a6d1c1cf2a2",
   "metadata": {},
   "outputs": [],
   "source": [
    "try:\n",
    "    train_data = pd.read_csv(train_data_path)\n",
    "    test_data = pd.read_csv(test_data_path)\n",
    "except FileNotFoundError as e:\n",
    "    print(f\"Error: {e}\")\n"
   ]
  },
  {
   "cell_type": "code",
   "execution_count": 18,
   "id": "73c81be3-05f6-4c7d-8a2d-1e58b15190bf",
   "metadata": {},
   "outputs": [],
   "source": [
    "# import class from the module\n",
    "from scripts.store_sales_prediction import StoreSalesPrediction\n",
    "predictor = StoreSalesPrediction(train_data, test_data)"
   ]
  },
  {
   "cell_type": "code",
   "execution_count": 20,
   "id": "6d6cf33e-218a-4967-bd99-606479239c51",
   "metadata": {},
   "outputs": [
    {
     "data": {
      "text/plain": [
       "((879882, 18), (41088, 17))"
      ]
     },
     "execution_count": 20,
     "metadata": {},
     "output_type": "execute_result"
    }
   ],
   "source": [
    "predictor.train_data.shape, predictor.test_data.shape"
   ]
  },
  {
   "cell_type": "code",
   "execution_count": 21,
   "id": "047e604b-f402-4b6a-830e-50a2aaaca453",
   "metadata": {},
   "outputs": [
    {
     "data": {
      "text/plain": [
       "Store                        0\n",
       "DayOfWeek                    0\n",
       "Date                         0\n",
       "Sales                        0\n",
       "Customers                    0\n",
       "Open                         0\n",
       "Promo                        0\n",
       "StateHoliday                 0\n",
       "SchoolHoliday                0\n",
       "StoreType                    0\n",
       "Assortment                   0\n",
       "CompetitionDistance          0\n",
       "CompetitionOpenSinceMonth    0\n",
       "CompetitionOpenSinceYear     0\n",
       "Promo2                       0\n",
       "Promo2SinceWeek              0\n",
       "Promo2SinceYear              0\n",
       "PromoInterval                0\n",
       "dtype: int64"
      ]
     },
     "execution_count": 21,
     "metadata": {},
     "output_type": "execute_result"
    }
   ],
   "source": [
    "predictor.train_data.isnull().sum()\n"
   ]
  },
  {
   "cell_type": "code",
   "execution_count": 22,
   "id": "70082bd2-03b5-4732-bc1a-b234ad48882b",
   "metadata": {},
   "outputs": [
    {
     "data": {
      "text/plain": [
       "0"
      ]
     },
     "execution_count": 22,
     "metadata": {},
     "output_type": "execute_result"
    }
   ],
   "source": [
    "predictor.train_data['CompetitionOpenSinceMonth'].isnull().sum()\n"
   ]
  },
  {
   "cell_type": "code",
   "execution_count": 23,
   "id": "403297ac-decb-448f-b108-a35edc119dc3",
   "metadata": {},
   "outputs": [
    {
     "data": {
      "text/plain": [
       "Id                           0\n",
       "Store                        0\n",
       "DayOfWeek                    0\n",
       "Date                         0\n",
       "Open                         0\n",
       "Promo                        0\n",
       "StateHoliday                 0\n",
       "SchoolHoliday                0\n",
       "StoreType                    0\n",
       "Assortment                   0\n",
       "CompetitionDistance          0\n",
       "CompetitionOpenSinceMonth    0\n",
       "CompetitionOpenSinceYear     0\n",
       "Promo2                       0\n",
       "Promo2SinceWeek              0\n",
       "Promo2SinceYear              0\n",
       "PromoInterval                0\n",
       "dtype: int64"
      ]
     },
     "execution_count": 23,
     "metadata": {},
     "output_type": "execute_result"
    }
   ],
   "source": [
    "predictor.test_data.isnull().sum()"
   ]
  },
  {
   "cell_type": "code",
   "execution_count": 24,
   "id": "5616ef70-c7b9-4331-9657-efd992026041",
   "metadata": {},
   "outputs": [
    {
     "data": {
      "text/plain": [
       "0"
      ]
     },
     "execution_count": 24,
     "metadata": {},
     "output_type": "execute_result"
    }
   ],
   "source": [
    "predictor.test_data['CompetitionOpenSinceMonth'].isnull().sum()\n"
   ]
  },
  {
   "cell_type": "code",
   "execution_count": 25,
   "id": "1ff280c4-e89d-45a4-ae0d-ef8ad3aebabc",
   "metadata": {},
   "outputs": [],
   "source": [
    "predictor.train_data['CompetitionOpenSinceMonth'].fillna(predictor.train_data['CompetitionOpenSinceMonth'].median(), inplace=True)"
   ]
  },
  {
   "cell_type": "code",
   "execution_count": 26,
   "id": "b92b3109-e8a3-47bd-9b1a-cb637f017cf0",
   "metadata": {},
   "outputs": [
    {
     "data": {
      "text/plain": [
       "array([1, 0])"
      ]
     },
     "execution_count": 26,
     "metadata": {},
     "output_type": "execute_result"
    }
   ],
   "source": [
    "predictor.train_data['SchoolHoliday'].unique()"
   ]
  },
  {
   "cell_type": "code",
   "execution_count": 27,
   "id": "ec4bf468-e07a-4975-b84a-8bf4fc760e72",
   "metadata": {},
   "outputs": [
    {
     "data": {
      "text/plain": [
       "0"
      ]
     },
     "execution_count": 27,
     "metadata": {},
     "output_type": "execute_result"
    }
   ],
   "source": [
    "predictor.train_data['CompetitionDistance'].isnull().sum()"
   ]
  },
  {
   "cell_type": "code",
   "execution_count": 14,
   "id": "9ba1b670-5c04-4c3f-9c99-4a5370777fce",
   "metadata": {
    "scrolled": true
   },
   "outputs": [],
   "source": [
    "# from scripts.customer_behaviour import CustomerBehaviourEDA\n",
    "# store_path  = \"../data/store.csv\"\n",
    "# train_path = \"../data/train.csv\"\n",
    "# test_path = \"../data/test.csv\"\n",
    "\n",
    "# customer = CustomerBehaviourEDA(store_path, train_path, test_path)\n",
    "# customer.load_data()"
   ]
  },
  {
   "cell_type": "code",
   "execution_count": 15,
   "id": "02b842dc-db54-439a-a1ed-a8215d0f796d",
   "metadata": {},
   "outputs": [],
   "source": [
    "# customer.merge_datasets()"
   ]
  },
  {
   "cell_type": "code",
   "execution_count": 16,
   "id": "a3c71984-cd52-4ff3-879c-65ae37daf54f",
   "metadata": {},
   "outputs": [],
   "source": [
    "# train_cleaned_path = \"../data/train_cleaned_data.csv\"\n",
    "# test_cleaned_path = \"../data/test_cleaned_data.csv\"\n",
    "# customer.clean_data(train_cleaned_path, test_cleaned_path)"
   ]
  },
  {
   "cell_type": "code",
   "execution_count": null,
   "id": "02faf513-6534-4e34-bcaa-db099b126b50",
   "metadata": {},
   "outputs": [],
   "source": []
  }
 ],
 "metadata": {
  "kernelspec": {
   "display_name": "Python 3 (ipykernel)",
   "language": "python",
   "name": "python3"
  },
  "language_info": {
   "codemirror_mode": {
    "name": "ipython",
    "version": 3
   },
   "file_extension": ".py",
   "mimetype": "text/x-python",
   "name": "python",
   "nbconvert_exporter": "python",
   "pygments_lexer": "ipython3",
   "version": "3.8.10"
  }
 },
 "nbformat": 4,
 "nbformat_minor": 5
}
