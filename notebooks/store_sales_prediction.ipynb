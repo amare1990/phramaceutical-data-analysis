{
 "cells": [
  {
   "cell_type": "code",
   "execution_count": 20,
   "id": "d87f7dd6-bb48-4615-966d-e839802fe09a",
   "metadata": {},
   "outputs": [],
   "source": [
    "import os, sys\n",
    "curr_dir = os.getcwd()\n",
    "parent_dir = os.path.dirname(curr_dir)\n",
    "sys.path.insert(0, parent_dir)"
   ]
  },
  {
   "cell_type": "code",
   "execution_count": 21,
   "id": "3401bb69-d6d7-42ec-8356-d88ae80bfc4f",
   "metadata": {},
   "outputs": [],
   "source": [
    "import pandas as pd"
   ]
  },
  {
   "cell_type": "code",
   "execution_count": 22,
   "id": "d7651523-23e2-4452-9bcc-d3a1d43a55e8",
   "metadata": {},
   "outputs": [],
   "source": [
    "# Data paths\n",
    "train_data_path = \"../data/train_cleaned_data.csv\"\n",
    "test_data_path = \"../data/test_cleaned_data.csv\""
   ]
  },
  {
   "cell_type": "code",
   "execution_count": 23,
   "id": "162822c6-345e-4b55-b027-1a6d1c1cf2a2",
   "metadata": {},
   "outputs": [],
   "source": [
    "try:\n",
    "    train_data = pd.read_csv(train_data_path)\n",
    "    test_data = pd.read_csv(test_data_path)\n",
    "except FileNotFoundError as e:\n",
    "    print(f\"Error: {e}\")\n"
   ]
  },
  {
   "cell_type": "code",
   "execution_count": 26,
   "id": "73c81be3-05f6-4c7d-8a2d-1e58b15190bf",
   "metadata": {},
   "outputs": [],
   "source": [
    "# import class from the module\n",
    "from scripts.store_sales_prediction import StoreSalesPrediction\n",
    "predictor = StoreSalesPrediction(train_data, test_data)"
   ]
  },
  {
   "cell_type": "code",
   "execution_count": 27,
   "id": "9ba1b670-5c04-4c3f-9c99-4a5370777fce",
   "metadata": {
    "scrolled": true
   },
   "outputs": [],
   "source": [
    "# from scripts.customer_behaviour import CustomerBehaviourEDA\n",
    "# store_path  = \"../data/store.csv\"\n",
    "# train_path = \"../data/train.csv\"\n",
    "# test_path = \"../data/test.csv\"\n",
    "\n",
    "# customer = CustomerBehaviourEDA(store_path, train_path, test_path)\n",
    "# customer.load_data()"
   ]
  },
  {
   "cell_type": "code",
   "execution_count": 28,
   "id": "a57560c9-607d-4c19-b4dd-0474988b6e8e",
   "metadata": {},
   "outputs": [],
   "source": [
    "# customer.test_data.columns"
   ]
  },
  {
   "cell_type": "code",
   "execution_count": 29,
   "id": "02b842dc-db54-439a-a1ed-a8215d0f796d",
   "metadata": {},
   "outputs": [],
   "source": [
    "# customer.merge_datasets()"
   ]
  },
  {
   "cell_type": "code",
   "execution_count": 30,
   "id": "e0e259fb-1af4-4ca4-9e73-c988f2e6b2c5",
   "metadata": {},
   "outputs": [],
   "source": [
    "# customer.test_data.columns"
   ]
  },
  {
   "cell_type": "code",
   "execution_count": 31,
   "id": "a3c71984-cd52-4ff3-879c-65ae37daf54f",
   "metadata": {},
   "outputs": [],
   "source": [
    "# train_cleaned_path = \"../data/train_cleaned_data.csv\"\n",
    "# test_cleaned_path = \"../data/test_cleaned_data.csv\"\n",
    "# customer.clean_data(train_cleaned_path, test_cleaned_path)"
   ]
  },
  {
   "cell_type": "code",
   "execution_count": 32,
   "id": "02faf513-6534-4e34-bcaa-db099b126b50",
   "metadata": {},
   "outputs": [],
   "source": [
    "# customer.test_data['Promo2'].unique()"
   ]
  },
  {
   "cell_type": "code",
   "execution_count": 33,
   "id": "81e79b68-ff46-4e8d-b002-f9e38a1d78a6",
   "metadata": {},
   "outputs": [
    {
     "data": {
      "text/plain": [
       "((879882, 18), (41088, 17))"
      ]
     },
     "execution_count": 33,
     "metadata": {},
     "output_type": "execute_result"
    }
   ],
   "source": [
    "predictor.train_data.shape, predictor.test_data.shape"
   ]
  },
  {
   "cell_type": "code",
   "execution_count": 34,
   "id": "7b393060-4cdc-4fa6-b142-9cbe67207197",
   "metadata": {},
   "outputs": [],
   "source": [
    "predictor.model"
   ]
  },
  {
   "cell_type": "code",
   "execution_count": 35,
   "id": "dca3232b-eccb-4fb5-b958-de40768eb899",
   "metadata": {},
   "outputs": [
    {
     "data": {
      "text/html": [
       "<style>#sk-container-id-1 {color: black;}#sk-container-id-1 pre{padding: 0;}#sk-container-id-1 div.sk-toggleable {background-color: white;}#sk-container-id-1 label.sk-toggleable__label {cursor: pointer;display: block;width: 100%;margin-bottom: 0;padding: 0.3em;box-sizing: border-box;text-align: center;}#sk-container-id-1 label.sk-toggleable__label-arrow:before {content: \"▸\";float: left;margin-right: 0.25em;color: #696969;}#sk-container-id-1 label.sk-toggleable__label-arrow:hover:before {color: black;}#sk-container-id-1 div.sk-estimator:hover label.sk-toggleable__label-arrow:before {color: black;}#sk-container-id-1 div.sk-toggleable__content {max-height: 0;max-width: 0;overflow: hidden;text-align: left;background-color: #f0f8ff;}#sk-container-id-1 div.sk-toggleable__content pre {margin: 0.2em;color: black;border-radius: 0.25em;background-color: #f0f8ff;}#sk-container-id-1 input.sk-toggleable__control:checked~div.sk-toggleable__content {max-height: 200px;max-width: 100%;overflow: auto;}#sk-container-id-1 input.sk-toggleable__control:checked~label.sk-toggleable__label-arrow:before {content: \"▾\";}#sk-container-id-1 div.sk-estimator input.sk-toggleable__control:checked~label.sk-toggleable__label {background-color: #d4ebff;}#sk-container-id-1 div.sk-label input.sk-toggleable__control:checked~label.sk-toggleable__label {background-color: #d4ebff;}#sk-container-id-1 input.sk-hidden--visually {border: 0;clip: rect(1px 1px 1px 1px);clip: rect(1px, 1px, 1px, 1px);height: 1px;margin: -1px;overflow: hidden;padding: 0;position: absolute;width: 1px;}#sk-container-id-1 div.sk-estimator {font-family: monospace;background-color: #f0f8ff;border: 1px dotted black;border-radius: 0.25em;box-sizing: border-box;margin-bottom: 0.5em;}#sk-container-id-1 div.sk-estimator:hover {background-color: #d4ebff;}#sk-container-id-1 div.sk-parallel-item::after {content: \"\";width: 100%;border-bottom: 1px solid gray;flex-grow: 1;}#sk-container-id-1 div.sk-label:hover label.sk-toggleable__label {background-color: #d4ebff;}#sk-container-id-1 div.sk-serial::before {content: \"\";position: absolute;border-left: 1px solid gray;box-sizing: border-box;top: 0;bottom: 0;left: 50%;z-index: 0;}#sk-container-id-1 div.sk-serial {display: flex;flex-direction: column;align-items: center;background-color: white;padding-right: 0.2em;padding-left: 0.2em;position: relative;}#sk-container-id-1 div.sk-item {position: relative;z-index: 1;}#sk-container-id-1 div.sk-parallel {display: flex;align-items: stretch;justify-content: center;background-color: white;position: relative;}#sk-container-id-1 div.sk-item::before, #sk-container-id-1 div.sk-parallel-item::before {content: \"\";position: absolute;border-left: 1px solid gray;box-sizing: border-box;top: 0;bottom: 0;left: 50%;z-index: -1;}#sk-container-id-1 div.sk-parallel-item {display: flex;flex-direction: column;z-index: 1;position: relative;background-color: white;}#sk-container-id-1 div.sk-parallel-item:first-child::after {align-self: flex-end;width: 50%;}#sk-container-id-1 div.sk-parallel-item:last-child::after {align-self: flex-start;width: 50%;}#sk-container-id-1 div.sk-parallel-item:only-child::after {width: 0;}#sk-container-id-1 div.sk-dashed-wrapped {border: 1px dashed gray;margin: 0 0.4em 0.5em 0.4em;box-sizing: border-box;padding-bottom: 0.4em;background-color: white;}#sk-container-id-1 div.sk-label label {font-family: monospace;font-weight: bold;display: inline-block;line-height: 1.2em;}#sk-container-id-1 div.sk-label-container {text-align: center;}#sk-container-id-1 div.sk-container {/* jupyter's `normalize.less` sets `[hidden] { display: none; }` but bootstrap.min.css set `[hidden] { display: none !important; }` so we also need the `!important` here to be able to override the default hidden behavior on the sphinx rendered scikit-learn.org. See: https://github.com/scikit-learn/scikit-learn/issues/21755 */display: inline-block !important;position: relative;}#sk-container-id-1 div.sk-text-repr-fallback {display: none;}</style><div id=\"sk-container-id-1\" class=\"sk-top-container\"><div class=\"sk-text-repr-fallback\"><pre>StandardScaler()</pre><b>In a Jupyter environment, please rerun this cell to show the HTML representation or trust the notebook. <br />On GitHub, the HTML representation is unable to render, please try loading this page with nbviewer.org.</b></div><div class=\"sk-container\" hidden><div class=\"sk-item\"><div class=\"sk-estimator sk-toggleable\"><input class=\"sk-toggleable__control sk-hidden--visually\" id=\"sk-estimator-id-1\" type=\"checkbox\" checked><label for=\"sk-estimator-id-1\" class=\"sk-toggleable__label sk-toggleable__label-arrow\">StandardScaler</label><div class=\"sk-toggleable__content\"><pre>StandardScaler()</pre></div></div></div></div></div>"
      ],
      "text/plain": [
       "StandardScaler()"
      ]
     },
     "execution_count": 35,
     "metadata": {},
     "output_type": "execute_result"
    }
   ],
   "source": [
    "predictor.scalar"
   ]
  },
  {
   "cell_type": "code",
   "execution_count": 36,
   "id": "3517e3f8-f02e-48b5-9667-d04c4f1f118e",
   "metadata": {},
   "outputs": [
    {
     "data": {
      "text/plain": [
       "<Logger StoreSalesPrediction (INFO)>"
      ]
     },
     "execution_count": 36,
     "metadata": {},
     "output_type": "execute_result"
    }
   ],
   "source": [
    "predictor.logger"
   ]
  },
  {
   "cell_type": "code",
   "execution_count": 40,
   "id": "1ca431bf-befe-44ba-bf9e-8933b6da86bd",
   "metadata": {},
   "outputs": [
    {
     "data": {
      "text/plain": [
       "array(['0', 'Jan,Apr,Jul,Oct', 'Feb,May,Aug,Nov', 'Mar,Jun,Sept,Dec'],\n",
       "      dtype=object)"
      ]
     },
     "execution_count": 40,
     "metadata": {},
     "output_type": "execute_result"
    }
   ],
   "source": [
    "predictor.train_data['PromoInterval'].unique()"
   ]
  },
  {
   "cell_type": "code",
   "execution_count": 41,
   "id": "b8950dc0-09ef-40e4-b9b1-73afb5f1ec4f",
   "metadata": {},
   "outputs": [
    {
     "data": {
      "text/plain": [
       "PromoInterval\n",
       "0                   410892\n",
       "Jan,Apr,Jul,Oct     269265\n",
       "Feb,May,Aug,Nov     110565\n",
       "Mar,Jun,Sept,Dec     89160\n",
       "Name: count, dtype: int64"
      ]
     },
     "execution_count": 41,
     "metadata": {},
     "output_type": "execute_result"
    }
   ],
   "source": [
    "predictor.train_data['PromoInterval'].value_counts()"
   ]
  },
  {
   "cell_type": "code",
   "execution_count": null,
   "id": "1e81f052-2482-4328-84f6-bf2c38681a57",
   "metadata": {},
   "outputs": [],
   "source": []
  }
 ],
 "metadata": {
  "kernelspec": {
   "display_name": "Python 3 (ipykernel)",
   "language": "python",
   "name": "python3"
  },
  "language_info": {
   "codemirror_mode": {
    "name": "ipython",
    "version": 3
   },
   "file_extension": ".py",
   "mimetype": "text/x-python",
   "name": "python",
   "nbconvert_exporter": "python",
   "pygments_lexer": "ipython3",
   "version": "3.8.10"
  }
 },
 "nbformat": 4,
 "nbformat_minor": 5
}
