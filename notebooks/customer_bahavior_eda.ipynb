{
 "cells": [
  {
   "cell_type": "code",
   "execution_count": 1,
   "id": "fb701e83-124d-48d8-b57d-125d183d75d9",
   "metadata": {},
   "outputs": [],
   "source": [
    "import os, sys\n",
    "cur_dir = os.getcwd()\n",
    "parent_dir = os.path.dirname(cur_dir)\n",
    "sys.path.insert(0, parent_dir)"
   ]
  },
  {
   "cell_type": "code",
   "execution_count": 2,
   "id": "e71e5f4f-b675-4dd8-abee-8b1ba6ec7026",
   "metadata": {},
   "outputs": [
    {
     "data": {
      "text/plain": [
       "('/home/am/Documents/Software Development/10_Academy Training/week4/phramaceutical-data-analysis/notebooks',\n",
       " '/home/am/Documents/Software Development/10_Academy Training/week4/phramaceutical-data-analysis')"
      ]
     },
     "execution_count": 2,
     "metadata": {},
     "output_type": "execute_result"
    }
   ],
   "source": [
    "cur_dir, parent_dir"
   ]
  },
  {
   "cell_type": "code",
   "execution_count": 3,
   "id": "5b9e28f6-e340-40e7-8fea-30685d89c741",
   "metadata": {},
   "outputs": [],
   "source": [
    "import pandas as pd\n",
    "import numpy as np"
   ]
  },
  {
   "cell_type": "code",
   "execution_count": 4,
   "id": "e69a6723-e971-4b57-a744-daa6c7156777",
   "metadata": {},
   "outputs": [],
   "source": [
    "from scripts.customer_behaviour import CustomerBehaviourEDA\n",
    "store_path = \"../data/store.csv\"\n",
    "train_path = \"../data/train.csv\"\n",
    "test_path = \"../data/test.csv\"\n",
    "customer_eda = CustomerBehaviourEDA(store_path, train_path, test_path)"
   ]
  },
  {
   "cell_type": "code",
   "execution_count": null,
   "id": "100637a6-3a7a-4ec8-b9b0-b44f82ec76b3",
   "metadata": {},
   "outputs": [],
   "source": [
    "from scripts.customer_behaviour_pipeline_processing import customer_behaviour_analysis_pipline_processor\n"
   ]
  }
 ],
 "metadata": {
  "kernelspec": {
   "display_name": "Python 3 (ipykernel)",
   "language": "python",
   "name": "python3"
  },
  "language_info": {
   "codemirror_mode": {
    "name": "ipython",
    "version": 3
   },
   "file_extension": ".py",
   "mimetype": "text/x-python",
   "name": "python",
   "nbconvert_exporter": "python",
   "pygments_lexer": "ipython3",
   "version": "3.8.10"
  }
 },
 "nbformat": 4,
 "nbformat_minor": 5
}
