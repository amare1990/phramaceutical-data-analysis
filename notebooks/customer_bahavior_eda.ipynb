{
 "cells": [
  {
   "cell_type": "code",
   "execution_count": 1,
   "id": "fb701e83-124d-48d8-b57d-125d183d75d9",
   "metadata": {},
   "outputs": [],
   "source": [
    "import os, sys\n",
    "cur_dir = os.getcwd()\n",
    "parent_dir = os.path.dirname(cur_dir)\n",
    "sys.path.insert(0, parent_dir)"
   ]
  },
  {
   "cell_type": "code",
   "execution_count": 2,
   "id": "e71e5f4f-b675-4dd8-abee-8b1ba6ec7026",
   "metadata": {},
   "outputs": [
    {
     "data": {
      "text/plain": [
       "('/home/am/Documents/Software Development/10_Academy Training/week4/phramaceutical-data-analysis/notebooks',\n",
       " '/home/am/Documents/Software Development/10_Academy Training/week4/phramaceutical-data-analysis')"
      ]
     },
     "execution_count": 2,
     "metadata": {},
     "output_type": "execute_result"
    }
   ],
   "source": [
    "cur_dir, parent_dir"
   ]
  },
  {
   "cell_type": "code",
   "execution_count": 3,
   "id": "5b9e28f6-e340-40e7-8fea-30685d89c741",
   "metadata": {},
   "outputs": [],
   "source": [
    "import pandas as pd\n",
    "import numpy as np"
   ]
  },
  {
   "cell_type": "code",
   "execution_count": 4,
   "id": "e69a6723-e971-4b57-a744-daa6c7156777",
   "metadata": {},
   "outputs": [],
   "source": [
    "from scripts.customer_behaviour import CustomerBehaviourEDA\n",
    "store_path = \"../data/store.csv\"\n",
    "train_path = \"../data/train.csv\"\n",
    "test_path = \"../data/test.csv\"\n",
    "customer_eda = CustomerBehaviourEDA(store_path, train_path, test_path)"
   ]
  },
  {
   "cell_type": "code",
   "execution_count": 5,
   "id": "b7bc51cf-e8a5-4e77-b15c-b29fde5afd0d",
   "metadata": {},
   "outputs": [
    {
     "name": "stderr",
     "output_type": "stream",
     "text": [
      "/home/am/Documents/Software Development/10_Academy Training/week4/phramaceutical-data-analysis/scripts/customer_behaviour.py:33: DtypeWarning: Columns (7) have mixed types. Specify dtype option on import or set low_memory=False.\n",
      "  self.train_data = pd.read_csv(self.train_path)\n"
     ]
    }
   ],
   "source": [
    "customer_eda.load_data()"
   ]
  },
  {
   "cell_type": "code",
   "execution_count": 6,
   "id": "4f64196d-33ce-4e64-963a-818496756672",
   "metadata": {},
   "outputs": [
    {
     "data": {
      "text/plain": [
       "(1017209, 9)"
      ]
     },
     "execution_count": 6,
     "metadata": {},
     "output_type": "execute_result"
    }
   ],
   "source": [
    "customer_eda.train_data.shape"
   ]
  },
  {
   "cell_type": "code",
   "execution_count": 7,
   "id": "e6c6f6f9-1e01-4578-bc4c-bb3026919678",
   "metadata": {},
   "outputs": [
    {
     "name": "stdout",
     "output_type": "stream",
     "text": [
      "['0' 'a' 'b' 'c']\n"
     ]
    }
   ],
   "source": [
    "# Convert the entire column to strings\n",
    "customer_eda.train_data.iloc[:, 7] = customer_eda.train_data.iloc[:, 7].astype(str)\n",
    "\n",
    "# Verify the unique values\n",
    "print(customer_eda.train_data.iloc[:, 7].unique())\n"
   ]
  },
  {
   "cell_type": "code",
   "execution_count": 8,
   "id": "4edf3882-c0c8-49a8-aba2-97b449660503",
   "metadata": {},
   "outputs": [
    {
     "data": {
      "text/plain": [
       "Index(['Store', 'DayOfWeek', 'Date', 'Sales', 'Customers', 'Open', 'Promo',\n",
       "       'StateHoliday', 'SchoolHoliday'],\n",
       "      dtype='object')"
      ]
     },
     "execution_count": 8,
     "metadata": {},
     "output_type": "execute_result"
    }
   ],
   "source": [
    "customer_eda.train_data.columns"
   ]
  },
  {
   "cell_type": "code",
   "execution_count": 9,
   "id": "539e66fd-0cbb-4bae-9aa5-2217684ede88",
   "metadata": {},
   "outputs": [
    {
     "data": {
      "text/plain": [
       "(41088, 8)"
      ]
     },
     "execution_count": 9,
     "metadata": {},
     "output_type": "execute_result"
    }
   ],
   "source": [
    "customer_eda.test_data.shape"
   ]
  },
  {
   "cell_type": "code",
   "execution_count": 10,
   "id": "f236ec6f-1c1d-475b-9c91-737191cedd8b",
   "metadata": {},
   "outputs": [],
   "source": [
    "customer_eda.merge_datasets()"
   ]
  },
  {
   "cell_type": "code",
   "execution_count": 11,
   "id": "9b6e4974-b15c-4e88-bcca-e502330e03f0",
   "metadata": {},
   "outputs": [],
   "source": [
    "merged_train_data, merged_test_data = customer_eda.get_merged_data()"
   ]
  },
  {
   "cell_type": "code",
   "execution_count": 12,
   "id": "a4e04d47-5b5d-4579-87d7-50f6308255e9",
   "metadata": {},
   "outputs": [
    {
     "data": {
      "text/plain": [
       "Index(['Store', 'DayOfWeek', 'Date', 'Sales', 'Customers', 'Open', 'Promo',\n",
       "       'StateHoliday', 'SchoolHoliday', 'StoreType', 'Assortment',\n",
       "       'CompetitionDistance', 'CompetitionOpenSinceMonth',\n",
       "       'CompetitionOpenSinceYear', 'Promo2', 'Promo2SinceWeek',\n",
       "       'Promo2SinceYear', 'PromoInterval'],\n",
       "      dtype='object')"
      ]
     },
     "execution_count": 12,
     "metadata": {},
     "output_type": "execute_result"
    }
   ],
   "source": [
    "merged_train_data.columns"
   ]
  },
  {
   "cell_type": "code",
   "execution_count": 13,
   "id": "b335cf46-f7b4-4acc-9ea2-6bf5f7dfc765",
   "metadata": {},
   "outputs": [
    {
     "data": {
      "text/plain": [
       "Index(['Id', 'Store', 'DayOfWeek', 'Date', 'Open', 'Promo', 'StateHoliday',\n",
       "       'SchoolHoliday', 'StoreType', 'Assortment', 'CompetitionDistance',\n",
       "       'CompetitionOpenSinceMonth', 'CompetitionOpenSinceYear', 'Promo2',\n",
       "       'Promo2SinceWeek', 'Promo2SinceYear', 'PromoInterval'],\n",
       "      dtype='object')"
      ]
     },
     "execution_count": 13,
     "metadata": {},
     "output_type": "execute_result"
    }
   ],
   "source": [
    "merged_test_data.columns"
   ]
  },
  {
   "cell_type": "code",
   "execution_count": 14,
   "id": "7842bd7b-4782-46e9-8317-848bb702a9d5",
   "metadata": {},
   "outputs": [],
   "source": [
    "train_cleaned_path = \"../data/train_cleaned_data.csv\"\n",
    "test_cleaned_path = \"../data/test_cleaned_data.csv\"\n",
    "customer_eda.clean_data(train_cleaned_path, test_cleaned_path)"
   ]
  },
  {
   "cell_type": "code",
   "execution_count": 15,
   "id": "e4242885-72d0-4579-a3af-92abc395f1b0",
   "metadata": {},
   "outputs": [
    {
     "data": {
      "text/plain": [
       "(879882, 18)"
      ]
     },
     "execution_count": 15,
     "metadata": {},
     "output_type": "execute_result"
    }
   ],
   "source": [
    "customer_eda.merged_train_data.shape"
   ]
  },
  {
   "cell_type": "code",
   "execution_count": 16,
   "id": "915399ea-2db8-4e20-a534-7198dfccb965",
   "metadata": {},
   "outputs": [
    {
     "data": {
      "text/plain": [
       "(41088, 17)"
      ]
     },
     "execution_count": 16,
     "metadata": {},
     "output_type": "execute_result"
    }
   ],
   "source": [
    "customer_eda.merged_test_data.shape"
   ]
  },
  {
   "cell_type": "code",
   "execution_count": 17,
   "id": "6a7ed192-414f-4069-88c1-b34466585042",
   "metadata": {},
   "outputs": [
    {
     "data": {
      "text/plain": [
       "Index(['Store', 'DayOfWeek', 'Date', 'Sales', 'Customers', 'Open', 'Promo',\n",
       "       'StateHoliday', 'SchoolHoliday', 'StoreType', 'Assortment',\n",
       "       'CompetitionDistance', 'CompetitionOpenSinceMonth',\n",
       "       'CompetitionOpenSinceYear', 'Promo2', 'Promo2SinceWeek',\n",
       "       'Promo2SinceYear', 'PromoInterval'],\n",
       "      dtype='object')"
      ]
     },
     "execution_count": 17,
     "metadata": {},
     "output_type": "execute_result"
    }
   ],
   "source": [
    "customer_eda.merged_train_data.columns"
   ]
  },
  {
   "cell_type": "code",
   "execution_count": 18,
   "id": "c08edc63-47e3-4698-8bfb-c13fdc954a6b",
   "metadata": {},
   "outputs": [
    {
     "data": {
      "text/plain": [
       "Index(['Id', 'Store', 'DayOfWeek', 'Date', 'Open', 'Promo', 'StateHoliday',\n",
       "       'SchoolHoliday', 'StoreType', 'Assortment', 'CompetitionDistance',\n",
       "       'CompetitionOpenSinceMonth', 'CompetitionOpenSinceYear', 'Promo2',\n",
       "       'Promo2SinceWeek', 'Promo2SinceYear', 'PromoInterval'],\n",
       "      dtype='object')"
      ]
     },
     "execution_count": 18,
     "metadata": {},
     "output_type": "execute_result"
    }
   ],
   "source": [
    "customer_eda.merged_test_data.columns"
   ]
  },
  {
   "cell_type": "code",
   "execution_count": 19,
   "id": "11a763d4-5bc4-419b-aac8-0caf1e6a6dfe",
   "metadata": {},
   "outputs": [],
   "source": [
    "# customer_eda.visualize_distributions()"
   ]
  },
  {
   "cell_type": "code",
   "execution_count": 20,
   "id": "ec560350-a992-4865-98cb-db058b1c55c0",
   "metadata": {},
   "outputs": [],
   "source": [
    "# Visualizations for average sales with promotions\n",
    "# customer_eda.analyze_promotions()"
   ]
  },
  {
   "cell_type": "code",
   "execution_count": 21,
   "id": "1aba3309-99f9-4553-8a77-a8b48c0983a0",
   "metadata": {},
   "outputs": [],
   "source": [
    "# customer_eda.explore_holiday_effects()"
   ]
  },
  {
   "cell_type": "code",
   "execution_count": 22,
   "id": "975f0297-ad1e-4a5b-9a48-9f1d475c54e4",
   "metadata": {},
   "outputs": [],
   "source": [
    "# customer_eda.check_correlations()"
   ]
  },
  {
   "cell_type": "code",
   "execution_count": 23,
   "id": "33b2b1ef-328c-4324-a4a6-89d973254e6a",
   "metadata": {},
   "outputs": [
    {
     "name": "stdout",
     "output_type": "stream",
     "text": [
      "Numerical Summary:\n",
      "              Store     DayOfWeek         Sales     Customers          Open  \\\n",
      "count  1.017209e+06  1.017209e+06  1.017209e+06  1.017209e+06  1.017209e+06   \n",
      "mean   5.584297e+02  3.998341e+00  5.773819e+03  6.331459e+02  8.301067e-01   \n",
      "std    3.219087e+02  1.997391e+00  3.849926e+03  4.644117e+02  3.755392e-01   \n",
      "min    1.000000e+00  1.000000e+00  0.000000e+00  0.000000e+00  0.000000e+00   \n",
      "25%    2.800000e+02  2.000000e+00  3.727000e+03  4.050000e+02  1.000000e+00   \n",
      "50%    5.580000e+02  4.000000e+00  5.744000e+03  6.090000e+02  1.000000e+00   \n",
      "75%    8.380000e+02  6.000000e+00  7.856000e+03  8.370000e+02  1.000000e+00   \n",
      "max    1.115000e+03  7.000000e+00  4.155100e+04  7.388000e+03  1.000000e+00   \n",
      "\n",
      "              Promo  SchoolHoliday  \n",
      "count  1.017209e+06   1.017209e+06  \n",
      "mean   3.815145e-01   1.786467e-01  \n",
      "std    4.857586e-01   3.830564e-01  \n",
      "min    0.000000e+00   0.000000e+00  \n",
      "25%    0.000000e+00   0.000000e+00  \n",
      "50%    0.000000e+00   0.000000e+00  \n",
      "75%    1.000000e+00   0.000000e+00  \n",
      "max    1.000000e+00   1.000000e+00  \n",
      "\n",
      "Categorical Summary:\n",
      "              Date StateHoliday\n",
      "count      1017209      1017209\n",
      "unique         942            4\n",
      "top     2015-07-31            0\n",
      "freq          1115       986159\n"
     ]
    }
   ],
   "source": [
    "customer_eda.generate_summary()"
   ]
  },
  {
   "cell_type": "code",
   "execution_count": null,
   "id": "389438a1-1678-4bc1-ade1-252256235b0d",
   "metadata": {},
   "outputs": [],
   "source": []
  }
 ],
 "metadata": {
  "kernelspec": {
   "display_name": "Python 3 (ipykernel)",
   "language": "python",
   "name": "python3"
  },
  "language_info": {
   "codemirror_mode": {
    "name": "ipython",
    "version": 3
   },
   "file_extension": ".py",
   "mimetype": "text/x-python",
   "name": "python",
   "nbconvert_exporter": "python",
   "pygments_lexer": "ipython3",
   "version": "3.8.10"
  }
 },
 "nbformat": 4,
 "nbformat_minor": 5
}
