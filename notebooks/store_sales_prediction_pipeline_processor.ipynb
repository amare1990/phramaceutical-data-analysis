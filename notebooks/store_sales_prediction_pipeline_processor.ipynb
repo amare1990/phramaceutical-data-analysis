{
 "cells": [
  {
   "cell_type": "code",
   "execution_count": 1,
   "id": "d87f7dd6-bb48-4615-966d-e839802fe09a",
   "metadata": {},
   "outputs": [],
   "source": [
    "import os, sys\n",
    "curr_dir = os.getcwd()\n",
    "parent_dir = os.path.dirname(curr_dir)\n",
    "sys.path.insert(0, parent_dir)"
   ]
  },
  {
   "cell_type": "code",
   "execution_count": 2,
   "id": "3401bb69-d6d7-42ec-8356-d88ae80bfc4f",
   "metadata": {},
   "outputs": [],
   "source": [
    "import pandas as pd"
   ]
  },
  {
   "cell_type": "code",
   "execution_count": 3,
   "id": "d7651523-23e2-4452-9bcc-d3a1d43a55e8",
   "metadata": {},
   "outputs": [],
   "source": [
    "import warnings\n",
    "# Suppress all warnings\n",
    "warnings.filterwarnings(\"ignore\")"
   ]
  },
  {
   "cell_type": "code",
   "execution_count": 4,
   "id": "2b943001-65f4-4cc3-a23e-bca4e75b4ae0",
   "metadata": {},
   "outputs": [],
   "source": [
    "from scripts.store_sales_prediction_pipeline_processor import store_sales_prediction_pipeline_processor"
   ]
  },
  {
   "cell_type": "code",
   "execution_count": 5,
   "id": "41e94418-c7dc-4746-b8cb-32ec7c801683",
   "metadata": {},
   "outputs": [
    {
     "name": "stderr",
     "output_type": "stream",
     "text": [
      "2025-01-14 15:47:53,020 - INFO - Starting preprocessing...\n",
      "2025-01-14 15:47:55,844 - INFO - Preprocessing completed.\n"
     ]
    }
   ],
   "source": [
    "store_sales_prediction_pipeline_processor()"
   ]
  },
  {
   "cell_type": "code",
   "execution_count": null,
   "id": "68c341ad-8d49-4ecf-9ce6-fb0a6234e502",
   "metadata": {},
   "outputs": [],
   "source": []
  }
 ],
 "metadata": {
  "kernelspec": {
   "display_name": "Python 3 (ipykernel)",
   "language": "python",
   "name": "python3"
  },
  "language_info": {
   "codemirror_mode": {
    "name": "ipython",
    "version": 3
   },
   "file_extension": ".py",
   "mimetype": "text/x-python",
   "name": "python",
   "nbconvert_exporter": "python",
   "pygments_lexer": "ipython3",
   "version": "3.8.10"
  }
 },
 "nbformat": 4,
 "nbformat_minor": 5
}
