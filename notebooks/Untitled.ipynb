{
 "cells": [
  {
   "cell_type": "code",
   "execution_count": 1,
   "id": "fb701e83-124d-48d8-b57d-125d183d75d9",
   "metadata": {},
   "outputs": [],
   "source": [
    "import os, sys\n",
    "cur_dir = os.getcwd()\n",
    "parent_dir = os.path.dirname(cur_dir)\n",
    "sys.path.insert(0, parent_dir)"
   ]
  },
  {
   "cell_type": "code",
   "execution_count": 3,
   "id": "e71e5f4f-b675-4dd8-abee-8b1ba6ec7026",
   "metadata": {},
   "outputs": [
    {
     "data": {
      "text/plain": [
       "('/home/am/Documents/Software Development/10_Academy Training/week4/phramaceutical-data-analysis/notebooks',\n",
       " '/home/am/Documents/Software Development/10_Academy Training/week4/phramaceutical-data-analysis')"
      ]
     },
     "execution_count": 3,
     "metadata": {},
     "output_type": "execute_result"
    }
   ],
   "source": [
    "cur_dir, parent_dir"
   ]
  },
  {
   "cell_type": "code",
   "execution_count": 5,
   "id": "5b9e28f6-e340-40e7-8fea-30685d89c741",
   "metadata": {},
   "outputs": [],
   "source": [
    "import pandas as pd\n",
    "import numpy as np"
   ]
  },
  {
   "cell_type": "code",
   "execution_count": 59,
   "id": "e69a6723-e971-4b57-a744-daa6c7156777",
   "metadata": {},
   "outputs": [],
   "source": [
    "df = pd.read_csv(\"../data/test.csv\")"
   ]
  },
  {
   "cell_type": "code",
   "execution_count": 60,
   "id": "6dd64b75-1011-4fcc-8a11-3009d576291f",
   "metadata": {},
   "outputs": [
    {
     "data": {
      "text/plain": [
       "(41088, 8)"
      ]
     },
     "execution_count": 60,
     "metadata": {},
     "output_type": "execute_result"
    }
   ],
   "source": [
    "df.shape"
   ]
  },
  {
   "cell_type": "code",
   "execution_count": 61,
   "id": "dbc589cf-4bb7-49c1-a203-7edd4331d724",
   "metadata": {},
   "outputs": [
    {
     "name": "stdout",
     "output_type": "stream",
     "text": [
      "<class 'pandas.core.frame.DataFrame'>\n",
      "RangeIndex: 41088 entries, 0 to 41087\n",
      "Data columns (total 8 columns):\n",
      " #   Column         Non-Null Count  Dtype  \n",
      "---  ------         --------------  -----  \n",
      " 0   Id             41088 non-null  int64  \n",
      " 1   Store          41088 non-null  int64  \n",
      " 2   DayOfWeek      41088 non-null  int64  \n",
      " 3   Date           41088 non-null  object \n",
      " 4   Open           41077 non-null  float64\n",
      " 5   Promo          41088 non-null  int64  \n",
      " 6   StateHoliday   41088 non-null  object \n",
      " 7   SchoolHoliday  41088 non-null  int64  \n",
      "dtypes: float64(1), int64(5), object(2)\n",
      "memory usage: 2.5+ MB\n"
     ]
    }
   ],
   "source": [
    "df.info()"
   ]
  },
  {
   "cell_type": "code",
   "execution_count": 88,
   "id": "494792bd-826d-4ecd-af4d-73f5cf0753d4",
   "metadata": {},
   "outputs": [
    {
     "data": {
      "text/plain": [
       "Id     Store  DayOfWeek  Date        Open  Promo  StateHoliday  SchoolHoliday\n",
       "28257  13     6          2015-08-15  0.0   0      a             0                1\n",
       "28772  677    6          2015-08-15  0.0   0      a             0                1\n",
       "28784  694    6          2015-08-15  0.0   0      a             0                1\n",
       "28790  701    6          2015-08-15  0.0   0      a             0                1\n",
       "28791  702    6          2015-08-15  0.0   0      a             0                1\n",
       "                                                                                ..\n",
       "28543  385    6          2015-08-15  0.0   0      a             0                1\n",
       "28555  399    6          2015-08-15  0.0   0      a             0                1\n",
       "28560  407    6          2015-08-15  0.0   0      a             0                1\n",
       "28565  412    6          2015-08-15  0.0   0      a             0                1\n",
       "29099  1109   6          2015-08-15  0.0   0      a             0                1\n",
       "Name: count, Length: 180, dtype: int64"
      ]
     },
     "execution_count": 88,
     "metadata": {},
     "output_type": "execute_result"
    }
   ],
   "source": [
    "df[df['StateHoliday']=='a'].value_counts()"
   ]
  },
  {
   "cell_type": "code",
   "execution_count": 81,
   "id": "d7ed0271-6630-4bbc-a0b7-9a742ef60eaa",
   "metadata": {},
   "outputs": [
    {
     "data": {
      "text/plain": [
       "array(['0', 'a'], dtype=object)"
      ]
     },
     "execution_count": 81,
     "metadata": {},
     "output_type": "execute_result"
    }
   ],
   "source": [
    "df['StateHoliday'].unique()"
   ]
  },
  {
   "cell_type": "code",
   "execution_count": null,
   "id": "b7bc51cf-e8a5-4e77-b15c-b29fde5afd0d",
   "metadata": {},
   "outputs": [],
   "source": []
  },
  {
   "cell_type": "code",
   "execution_count": null,
   "id": "4f64196d-33ce-4e64-963a-818496756672",
   "metadata": {},
   "outputs": [],
   "source": []
  }
 ],
 "metadata": {
  "kernelspec": {
   "display_name": "Python 3 (ipykernel)",
   "language": "python",
   "name": "python3"
  },
  "language_info": {
   "codemirror_mode": {
    "name": "ipython",
    "version": 3
   },
   "file_extension": ".py",
   "mimetype": "text/x-python",
   "name": "python",
   "nbconvert_exporter": "python",
   "pygments_lexer": "ipython3",
   "version": "3.8.10"
  }
 },
 "nbformat": 4,
 "nbformat_minor": 5
}
